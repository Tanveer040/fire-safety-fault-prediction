{
 "cells": [
  {
   "cell_type": "code",
   "execution_count": 6,
   "id": "76286692",
   "metadata": {},
   "outputs": [
    {
     "name": "stderr",
     "output_type": "stream",
     "text": [
      "C:\\Users\\User\\AppData\\Local\\Temp\\ipykernel_20304\\3675597792.py:7: DtypeWarning: Columns (30) have mixed types. Specify dtype option on import or set low_memory=False.\n",
      "  df_events = pd.read_csv('Fire_Events_Data_Cleaned.csv')\n"
     ]
    }
   ],
   "source": [
    "import pandas as pd\n",
    "from datetime import timedelta\n",
    "\n",
    "# ===============================\n",
    "# Load and Prepare Datasets\n",
    "# ===============================\n",
    "df_events = pd.read_csv('Fire_Events_Data_Cleaned.csv')\n",
    "df_calls = pd.read_csv('iotdata_activations.csv')\n",
    "\n",
    "\n"
   ]
  },
  {
   "cell_type": "code",
   "execution_count": 7,
   "id": "3f6a8f24",
   "metadata": {},
   "outputs": [],
   "source": [
    "# --- Clean and convert ADDEDAT (events) ---\n",
    "df_events['ADDEDAT'] = pd.to_datetime(df_events['ADDEDAT'], errors='coerce')\n",
    "df_events = df_events.dropna(subset=['ADDEDAT'])\n",
    "df_events['ADDEDAT'] = df_events['ADDEDAT'].dt.tz_localize('UTC').dt.tz_convert('Australia/Sydney')\n",
    "\n",
    "# --- Convert Excel-style activation timestamps ---\n",
    "df_calls['alarm_date_time'] = pd.to_numeric(df_calls['alarm_date_time'], errors='coerce')\n",
    "df_calls = df_calls.dropna(subset=['alarm_date_time'])\n",
    "df_calls['ALARM_DATETIME'] = pd.to_timedelta(df_calls['alarm_date_time'], unit='D') + pd.Timestamp('1899-12-30')\n",
    "df_calls['ALARM_DATETIME'] = df_calls['ALARM_DATETIME'].dt.tz_localize('Australia/Sydney')\n",
    "\n",
    "# ===============================\n",
    "# Standardize Site Name Fields\n",
    "# ===============================\n",
    "df_events.rename(columns={'SITEID': 'Site Name'}, inplace=True)\n",
    "df_events['Site Name'] = df_events['Site Name'].astype(str).str.strip().str.lower()\n",
    "df_calls['Site Name'] = df_calls['Site Name'].astype(str).str.strip().str.lower()"
   ]
  },
  {
   "cell_type": "code",
   "execution_count": 19,
   "id": "14978e36",
   "metadata": {},
   "outputs": [],
   "source": [
    "\n",
    "# ===============================\n",
    "# Filter Last 14 Days of Events\n",
    "# ===============================\n",
    "latest_time = pd.Timestamp(\"2025-03-11 00:00:00\", tz='Australia/Sydney')\n",
    "cutoff_time = latest_time - timedelta(days=30)\n",
    "recent_events = df_events[df_events['ADDEDAT'] >= cutoff_time].copy()\n",
    "\n",
    "# ===============================\n",
    "# Step 1: Fault = on in Last 14 Days\n",
    "# ===============================\n",
    "fault_events = recent_events[recent_events['fault'].str.lower() == 'on'].copy()"
   ]
  },
  {
   "cell_type": "code",
   "execution_count": 20,
   "id": "a146d3ec",
   "metadata": {},
   "outputs": [],
   "source": [
    "# ===============================\n",
    "# Step 2: Check if any Alarm = on occurred ±5 minutes of the fault\n",
    "# ===============================\n",
    "def had_alarm_nearby(row):\n",
    "    site = row['Site Name']\n",
    "    event_time = row['ADDEDAT']\n",
    "    window_start = event_time - timedelta(minutes=5)\n",
    "    window_end = event_time + timedelta(minutes=5)\n",
    "\n",
    "    match = recent_events[\n",
    "        (recent_events['Site Name'] == site) &\n",
    "        (recent_events['alarm'].str.lower() == 'on') &\n",
    "        (recent_events['ADDEDAT'] >= window_start) &\n",
    "        (recent_events['ADDEDAT'] <= window_end)\n",
    "    ]\n",
    "    return int(not match.empty)\n",
    "\n",
    "fault_events['alarm_nearby'] = fault_events.apply(had_alarm_nearby, axis=1)\n",
    "fault_with_alarm = fault_events[fault_events['alarm_nearby'] == 1].copy()\n"
   ]
  },
  {
   "cell_type": "code",
   "execution_count": 21,
   "id": "fc52f236",
   "metadata": {},
   "outputs": [],
   "source": [
    "# ===============================\n",
    "# Step 3: Check for Brigade Callouts (±5 min from fault time)\n",
    "# ===============================\n",
    "def was_brigade_called(row):\n",
    "    site = row['Site Name']\n",
    "    event_time = row['ADDEDAT']\n",
    "    window_start = event_time - timedelta(minutes=5)\n",
    "    window_end = event_time + timedelta(minutes=5)\n",
    "\n",
    "    match = df_calls[\n",
    "        (df_calls['Site Name'] == site) &\n",
    "        (df_calls['ALARM_DATETIME'] >= window_start) &\n",
    "        (df_calls['ALARM_DATETIME'] <= window_end)\n",
    "    ]\n",
    "    return int(not match.empty)\n",
    "\n",
    "if not fault_with_alarm.empty:\n",
    "    fault_with_alarm['brigade_callout'] = fault_with_alarm.apply(was_brigade_called, axis=1)\n",
    "    escalated = fault_with_alarm['brigade_callout'].sum()\n",
    "else:\n",
    "    escalated = 0"
   ]
  },
  {
   "cell_type": "code",
   "execution_count": 22,
   "id": "9d981c9c",
   "metadata": {},
   "outputs": [
    {
     "name": "stdout",
     "output_type": "stream",
     "text": [
      "\n",
      "--- Summary (Last 14 Days) ---\n",
      "Total Fault Events: 7441\n",
      "Faults that triggered Alarms (within ±5min): 346\n",
      "Alarms escalated to Brigade Callouts: 21\n",
      "% Faults → Alarms: 4.65%\n",
      "% Alarms → Brigade Callouts: 6.07%\n"
     ]
    }
   ],
   "source": [
    "\n",
    "# Output Summary\n",
    "# ===============================\n",
    "print(\"\\n--- Summary (Last 14 Days) ---\")\n",
    "print(f\"Total Fault Events: {len(fault_events)}\")\n",
    "print(f\"Faults that triggered Alarms (within ±5min): {len(fault_with_alarm)}\")\n",
    "print(f\"Alarms escalated to Brigade Callouts: {escalated}\")\n",
    "\n",
    "if len(fault_events) > 0:\n",
    "    print(f\"% Faults → Alarms: {len(fault_with_alarm) / len(fault_events):.2%}\")\n",
    "if len(fault_with_alarm) > 0:\n",
    "    print(f\"% Alarms → Brigade Callouts: {escalated / len(fault_with_alarm):.2%}\")"
   ]
  },
  {
   "cell_type": "code",
   "execution_count": 17,
   "id": "a43888d7",
   "metadata": {},
   "outputs": [
    {
     "data": {
      "image/png": "[encoded data removed]",
      "text/plain": [
       "<Figure size 800x500 with 1 Axes>"
      ]
     },
     "metadata": {},
     "output_type": "display_data"
    }
   ],
   "source": [
    "import matplotlib.pyplot as plt\n",
    "\n",
    "# Simple conversion funnel counts\n",
    "stage_labels = ['Fault Events', 'Faults with Alarm', 'Brigade Callouts']\n",
    "stage_counts = [len(fault_events), len(fault_with_alarm), fault_with_alarm['brigade_callout'].sum()]\n",
    "\n",
    "plt.figure(figsize=(8, 5))\n",
    "plt.bar(stage_labels, stage_counts)\n",
    "plt.title(\"Event Escalation Funnel\")\n",
    "plt.ylabel(\"Number of Events\")\n",
    "for i, count in enumerate(stage_counts):\n",
    "    plt.text(i, count + 5, str(count), ha='center', va='bottom')\n",
    "plt.tight_layout()\n",
    "plt.show()\n"
   ]
  },
  {
   "cell_type": "code",
   "execution_count": null,
   "id": "e1234034",
   "metadata": {},
   "outputs": [],
   "source": []
  },
  {
   "cell_type": "code",
   "execution_count": null,
   "id": "023fab25",
   "metadata": {},
   "outputs": [],
   "source": []
  }
 ],
 "metadata": {
  "kernelspec": {
   "display_name": "Python 3 (ipykernel)",
   "language": "python",
   "name": "python3"
  },
  "language_info": {
   "codemirror_mode": {
    "name": "ipython",
    "version": 3
   },
   "file_extension": ".py",
   "mimetype": "text/x-python",
   "name": "python",
   "nbconvert_exporter": "python",
   "pygments_lexer": "ipython3",
   "version": "3.10.9"
  }
 },
 "nbformat": 4,
 "nbformat_minor": 5
}
